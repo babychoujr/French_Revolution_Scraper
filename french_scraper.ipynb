{
 "metadata": {
  "language_info": {
   "codemirror_mode": {
    "name": "ipython",
    "version": 3
   },
   "file_extension": ".py",
   "mimetype": "text/x-python",
   "name": "python",
   "nbconvert_exporter": "python",
   "pygments_lexer": "ipython3",
   "version": "3.8.2-final"
  },
  "orig_nbformat": 2,
  "kernelspec": {
   "name": "python_defaultSpec_1598562176533",
   "display_name": "Python 3.8.2 64-bit"
  }
 },
 "nbformat": 4,
 "nbformat_minor": 2,
 "cells": [
  {
   "cell_type": "code",
   "execution_count": 16,
   "metadata": {
    "tags": []
   },
   "outputs": [],
   "source": [
    "import requests\n",
    "import re\n",
    "from bs4 import BeautifulSoup"
   ]
  },
  {
   "cell_type": "markdown",
   "metadata": {},
   "source": [
    "\\h3 Links on the French Revolution website"
   ]
  },
  {
   "cell_type": "code",
   "execution_count": 17,
   "metadata": {
    "tags": [
     "outputPrepend"
    ]
   },
   "outputs": [
    {
     "output_type": "stream",
     "name": "stdout",
     "text": "-nb.info/gnd/4018183-2\nhttps://en.wikipedia.org/wiki/Historical_Dictionary_of_Switzerland\nhttps://hls-dhs-dss.ch/fr/articles/017216\nhttps://en.wikipedia.org/wiki/LCCN_(identifier)\nhttps://id.loc.gov/authorities/subjects/sh85051319\nhttps://en.wikipedia.org/wiki/National_Archives_and_Records_Administration\nhttps://catalog.archives.gov/id/10638936\nhttps://en.wikipedia.org/wiki/National_Library_of_the_Czech_Republic\nhttps://aleph.nkp.cz/F/?func=find-c&local_base=aut&ccl_term=ica=ph138786&CON_LNG=ENG\nhttps://en.wikipedia.org/wiki/National_Library_of_Israel\nhttp://uli.nli.org.il/F/?func=direct&doc_number=000685569&local_base=nlx10\nhttps://en.wikipedia.org/w/index.php?title=French_Revolution&oldid=974273973\nhttps://en.wikipedia.org/wiki/Help:Category\nhttps://en.wikipedia.org/wiki/Category:French_Revolution\nhttps://en.wikipedia.org/wiki/Category:1789_in_France\nhttps://en.wikipedia.org/wiki/Category:1790s_in_France\nhttps://en.wikipedia.org/wiki/Category:18th-century_rebellions\nhttps://en.wikipedia.org/wiki/Category:18th-century_revolutions\nhttps://en.wikipedia.org/wiki/Category:Conflicts_in_1789\nhttps://en.wikipedia.org/wiki/Category:Conflicts_in_1790\nhttps://en.wikipedia.org/wiki/Category:Conflicts_in_1791\nhttps://en.wikipedia.org/wiki/Category:Conflicts_in_1792\nhttps://en.wikipedia.org/wiki/Category:Modern_history_of_France\nhttps://en.wikipedia.org/wiki/Category:Republicanism_in_France\nhttps://en.wikipedia.org/wiki/Category:Articles_with_Dutch-language_sources_(nl)\nhttps://en.wikipedia.org/wiki/Category:Wikipedia_articles_incorporating_a_citation_from_the_1911_Encyclopaedia_Britannica_with_Wikisource_reference\nhttps://en.wikipedia.org/wiki/Category:CS1_maint:_extra_text:_authors_list\nhttps://en.wikipedia.org/wiki/Category:CS1_maint:_multiple_names:_authors_list\nhttps://en.wikipedia.org/wiki/Category:Webarchive_template_wayback_links\nhttps://en.wikipedia.org/wiki/Category:Articles_with_French-language_sources_(fr)\nhttps://en.wikipedia.org/wiki/Category:CS1_errors:_missing_periodical\nhttps://en.wikipedia.org/wiki/Category:CS1_French-language_sources_(fr)\nhttps://en.wikipedia.org/wiki/Category:Articles_with_short_description\nhttps://en.wikipedia.org/wiki/Category:Short_description_is_different_from_Wikidata\nhttps://en.wikipedia.org/wiki/Category:Wikipedia_indefinitely_semi-protected_pages\nhttps://en.wikipedia.org/wiki/Category:Wikipedia_indefinitely_move-protected_pages\nhttps://en.wikipedia.org/wiki/Category:Use_dmy_dates_from_January_2019\nhttps://en.wikipedia.org/wiki/Category:Use_British_English_from_September_2016\nhttps://en.wikipedia.org/wiki/Category:Articles_containing_French-language_text\nhttps://en.wikipedia.org/wiki/Category:All_articles_with_unsourced_statements\nhttps://en.wikipedia.org/wiki/Category:Articles_with_unsourced_statements_from_December_2018\nhttps://en.wikipedia.org/wiki/Category:Articles_with_unsourced_statements_from_July_2016\nhttps://en.wikipedia.org/wiki/Category:Articles_with_unsourced_statements_from_April_2017\nhttps://en.wikipedia.org/wiki/Category:Articles_containing_explicitly_cited_English-language_text\nhttps://en.wikipedia.org/wiki/Category:Articles_with_hAudio_microformats\nhttps://en.wikipedia.org/wiki/Category:CS1_maint:_ref%3Dharv\nhttps://en.wikipedia.org/wiki/Category:CS1:_long_volume_value\nhttps://en.wikipedia.org/wiki/Category:Commons_category_link_from_Wikidata\nhttps://en.wikipedia.org/wiki/Category:Wikipedia_articles_with_BNF_identifiers\nhttps://en.wikipedia.org/wiki/Category:Wikipedia_articles_with_GND_identifiers\nhttps://en.wikipedia.org/wiki/Category:Wikipedia_articles_with_HDS_identifiers\nhttps://en.wikipedia.org/wiki/Category:Wikipedia_articles_with_LCCN_identifiers\nhttps://en.wikipedia.org/wiki/Category:Wikipedia_articles_with_NARA_identifiers\nhttps://en.wikipedia.org/wiki/Category:Wikipedia_articles_with_NKC_identifiers\nhttps://en.wikipedia.org/wiki/Category:Wikipedia_articles_with_NLI_identifiers\nhttps://en.wikipedia.org/wiki/Special:MyTalk\nhttps://en.wikipedia.org/wiki/Special:MyContributions\n/w/index.php?title=Special:CreateAccount&returnto=French+Revolution\n/w/index.php?title=Special:UserLogin&returnto=French+Revolution\nhttps://en.wikipedia.org/wiki/French_Revolution\nhttps://en.wikipedia.org/wiki/Talk:French_Revolution\nhttps://en.wikipedia.org/wiki/French_Revolution\n/w/index.php?title=French_Revolution&action=edit\n/w/index.php?title=French_Revolution&action=history\nhttps://en.wikipedia.org/wiki/Main_Page\nhttps://en.wikipedia.org/wiki/Main_Page\nhttps://en.wikipedia.org/wiki/Wikipedia:Contents\nhttps://en.wikipedia.org/wiki/Portal:Current_events\nhttps://en.wikipedia.org/wiki/Special:Random\nhttps://en.wikipedia.org/wiki/Wikipedia:About\n//en.wikipedia.org/wiki/Wikipedia:Contact_us\nhttps://donate.wikimedia.org/wiki/Special:FundraiserRedirector?utm_source=donate&utm_medium=sidebar&utm_campaign=C13_en.wikipedia.org&uselang=en\n//shop.wikimedia.org\nhttps://en.wikipedia.org/wiki/Help:Contents\nhttps://en.wikipedia.org/wiki/Wikipedia:Community_portal\nhttps://en.wikipedia.org/wiki/Special:RecentChanges\nhttps://en.wikipedia.org/wiki/Wikipedia:File_Upload_Wizard\nhttps://en.wikipedia.org/wiki/Special:WhatLinksHere/French_Revolution\nhttps://en.wikipedia.org/wiki/Special:RecentChangesLinked/French_Revolution\nhttps://en.wikipedia.org/wiki/Wikipedia:File_Upload_Wizard\nhttps://en.wikipedia.org/wiki/Special:SpecialPages\n/w/index.php?title=French_Revolution&oldid=974273973\n/w/index.php?title=French_Revolution&action=info\n/w/index.php?title=Special:CiteThisPage&page=French_Revolution&id=974273973&wpFormIdentifier=titleform\nhttps://www.wikidata.org/wiki/Special:EntityPage/Q6534\n/w/index.php?title=Special:DownloadAsPdf&page=French_Revolution&action=show-download-screen\n/w/index.php?title=French_Revolution&printable=yes\nhttps://commons.wikimedia.org/wiki/Category:French_Revolution\nhttps://en.wikibooks.org/wiki/French_History/French_Revolution\nhttps://en.wikiquote.org/wiki/French_Revolution\nhttps://af.wikipedia.org/wiki/Franse_Rewolusie\nhttps://als.wikipedia.org/wiki/Franz%C3%B6sische_Revolution\nhttps://am.wikipedia.org/wiki/%E1%8B%A8%E1%8D%88%E1%88%A8%E1%8A%95%E1%88%B3%E1%8B%AD_%E1%8A%A0%E1%89%A5%E1%8B%AE%E1%89%B5\nhttps://ar.wikipedia.org/wiki/%D8%A7%D9%84%D8%AB%D9%88%D8%B1%D8%A9_%D8%A7%D9%84%D9%81%D8%B1%D9%86%D8%B3%D9%8A%D8%A9\nhttps://an.wikipedia.org/wiki/Revoluci%C3%B3n_francesa\nhttps://as.wikipedia.org/wiki/%E0%A6%AB%E0%A7%B0%E0%A6%BE%E0%A6%9A%E0%A7%80_%E0%A6%AC%E0%A6%BF%E0%A6%AA%E0%A7%8D%E0%A6%B2%E0%A7%B1\nhttps://ast.wikipedia.org/wiki/Revoluci%C3%B3n_Francesa\nhttps://gn.wikipedia.org/wiki/Revolusi%C3%B5_Hy%C3%A3siapegua\nhttps://az.wikipedia.org/wiki/B%C3%B6y%C3%BCk_Fransa_inqilab%C4%B1\nhttps://azb.wikipedia.org/wiki/%D8%A8%D8%A4%DB%8C%D9%88%DA%A9_%D9%81%D8%B1%D8%A7%D9%86%D8%B3%D9%87_%D8%A7%DB%8C%D9%86%D9%82%DB%8C%D9%84%D8%A7%D8%A8%DB%8C\nhttps://bn.wikipedia.org/wiki/%E0%A6%AB%E0%A6%B0%E0%A6%BE%E0%A6%B8%E0%A6%BF_%E0%A6%AC%E0%A6%BF%E0%A6%AA%E0%A7%8D%E0%A6%B2%E0%A6%AC\nhttps://zh-min-nan.wikipedia.org/wiki/Hoat-kok_Kek-b%C4%93ng\nhttps://ba.wikipedia.org/wiki/%D0%91%D3%A9%D0%B9%D3%A9%D0%BA_%D1%84%D1%80%D0%B0%D0%BD%D1%86%D1%83%D0%B7_%D0%B8%D0%BD%D2%A1%D0%B8%D0%BB%D0%B0%D0%B1%D1%8B\nhttps://be.wikipedia.org/wiki/%D0%92%D1%8F%D0%BB%D1%96%D0%BA%D0%B0%D1%8F_%D1%84%D1%80%D0%B0%D0%BD%D1%86%D1%83%D0%B7%D1%81%D0%BA%D0%B0%D1%8F_%D1%80%D1%8D%D0%B2%D0%B0%D0%BB%D1%8E%D1%86%D1%8B%D1%8F\nhttps://be-tarask.wikipedia.org/wiki/%D0%A4%D1%80%D0%B0%D0%BD%D1%86%D1%83%D1%81%D0%BA%D0%B0%D1%8F_%D1%80%D1%8D%D0%B2%D0%B0%D0%BB%D1%8E%D1%86%D1%8B%D1%8F\nhttps://bh.wikipedia.org/wiki/%E0%A4%AB%E0%A5%8D%E0%A4%B0%E0%A4%BE%E0%A4%82%E0%A4%B8%E0%A5%80%E0%A4%B8%E0%A5%80_%E0%A4%95%E0%A5%8D%E0%A4%B0%E0%A4%BE%E0%A4%82%E0%A4%A4%E0%A4%BF\nhttps://bg.wikipedia.org/wiki/%D0%A4%D1%80%D0%B5%D0%BD%D1%81%D0%BA%D0%B0_%D1%80%D0%B5%D0%B2%D0%BE%D0%BB%D1%8E%D1%86%D0%B8%D1%8F\nhttps://bar.wikipedia.org/wiki/Franzesische_Revolution\nhttps://bs.wikipedia.org/wiki/Francuska_revolucija\nhttps://br.wikipedia.org/wiki/Dispac%27h_Gall\nhttps://bxr.wikipedia.org/wiki/%D0%A4%D1%80%D0%B0%D0%BD%D1%86%D0%B8%D0%B8%D0%BD_%D1%85%D1%83%D0%B1%D0%B8%D1%81%D1%85%D0%B0%D0%BB\nhttps://ca.wikipedia.org/wiki/Revoluci%C3%B3_Francesa\nhttps://cv.wikipedia.org/wiki/%D0%A4%D1%80%D0%B0%D0%BD%D1%86%D0%B8%D0%BD_%D0%90%D1%81%D0%BB%C4%83_%D1%80%D0%B5%D0%B2%D0%BE%D0%BB%D1%8E%D1%86%D0%B8%D0%B9%C4%95\nhttps://ceb.wikipedia.org/wiki/Rebolusyong_Pranses\nhttps://cs.wikipedia.org/wiki/Velk%C3%A1_francouzsk%C3%A1_revoluce\nhttps://cy.wikipedia.org/wiki/Y_Chwyldro_Ffrengig\nhttps://da.wikipedia.org/wiki/Franske_revolution\nhttps://de.wikipedia.org/wiki/Franz%C3%B6sische_Revolution\nhttps://et.wikipedia.org/wiki/Prantsuse_revolutsioon\nhttps://el.wikipedia.org/wiki/%CE%93%CE%B1%CE%BB%CE%BB%CE%B9%CE%BA%CE%AE_%CE%95%CF%80%CE%B1%CE%BD%CE%AC%CF%83%CF%84%CE%B1%CF%83%CE%B7\nhttps://es.wikipedia.org/wiki/Revoluci%C3%B3n_francesa\nhttps://eo.wikipedia.org/wiki/Franca_revolucio_de_1789\nhttps://eu.wikipedia.org/wiki/Frantziako_Iraultza\nhttps://fa.wikipedia.org/wiki/%D8%A7%D9%86%D9%82%D9%84%D8%A7%D8%A8_%D9%81%D8%B1%D8%A7%D9%86%D8%B3%D9%87\nhttps://hif.wikipedia.org/wiki/French_Revolution\nhttps://fo.wikipedia.org/wiki/Franska_Kollveltingin\nhttps://fr.wikipedia.org/wiki/R%C3%A9volution_fran%C3%A7aise\nhttps://fy.wikipedia.org/wiki/Fr%C3%A2nske_Revol%C3%BAsje\nhttps://fur.wikipedia.org/wiki/Rivoluzion_francese\nhttps://ga.wikipedia.org/wiki/R%C3%A9abhl%C3%B3id_na_Fraince\nhttps://gv.wikipedia.org/wiki/Irree_Magh_ny_Frank\nhttps://gd.wikipedia.org/wiki/Ar-a-mach_na_Frainge\nhttps://gl.wikipedia.org/wiki/Revoluci%C3%B3n_Francesa\nhttps://gu.wikipedia.org/wiki/%E0%AA%AB%E0%AB%8D%E0%AA%B0%E0%AA%BE%E0%AA%A8%E0%AB%8D%E0%AA%B8%E0%AA%A8%E0%AB%80_%E0%AA%95%E0%AB%8D%E0%AA%B0%E0%AA%BE%E0%AA%82%E0%AA%A4%E0%AA%BF\nhttps://ko.wikipedia.org/wiki/%ED%94%84%EB%9E%91%EC%8A%A4_%ED%98%81%EB%AA%85\nhttps://hy.wikipedia.org/wiki/%D5%96%D6%80%D5%A1%D5%B6%D5%BD%D5%AB%D5%A1%D5%AF%D5%A1%D5%B6_%D5%B0%D5%A5%D5%B2%D5%A1%D6%83%D5%B8%D5%AD%D5%B8%D6%82%D5%A9%D5%B5%D5%B8%D6%82%D5%B6\nhttps://hi.wikipedia.org/wiki/%E0%A4%AB%E0%A4%BC%E0%A5%8D%E0%A4%B0%E0%A4%BE%E0%A4%A8%E0%A5%8D%E0%A4%B8%E0%A5%80%E0%A4%B8%E0%A5%80_%E0%A4%95%E0%A5%8D%E0%A4%B0%E0%A4%BE%E0%A4%A8%E0%A5%8D%E0%A4%A4%E0%A4%BF\nhttps://hr.wikipedia.org/wiki/Francuska_revolucija\nhttps://io.wikipedia.org/wiki/Franca_revoluciono\nhttps://ilo.wikipedia.org/wiki/Pranses_a_Rebolusion\nhttps://id.wikipedia.org/wiki/Revolusi_Prancis\nhttps://ia.wikipedia.org/wiki/Revolution_francese\nhttps://ie.wikipedia.org/wiki/Franc%C3%A9s_Revolution\nhttps://is.wikipedia.org/wiki/Franska_byltingin\nhttps://it.wikipedia.org/wiki/Rivoluzione_francese\nhttps://he.wikipedia.org/wiki/%D7%94%D7%9E%D7%94%D7%A4%D7%9B%D7%94_%D7%94%D7%A6%D7%A8%D7%A4%D7%AA%D7%99%D7%AA\nhttps://jv.wikipedia.org/wiki/Revolusi_Prancis\nhttps://kbp.wikipedia.org/wiki/Frans%C9%A9%C9%A9_t%C9%9B_kp%C9%9Bl%C9%A9_l%C9%9Bz%CA%8A%CA%8A\nhttps://kn.wikipedia.org/wiki/%E0%B2%AB%E0%B3%8D%E0%B2%B0%E0%B3%86%E0%B2%82%E0%B2%9A%E0%B3%8D_%E0%B2%95%E0%B3%8D%E0%B2%B0%E0%B2%BE%E0%B2%82%E0%B2%A4%E0%B2%BF\nhttps://krc.wikipedia.org/wiki/%D0%A3%D0%BB%D0%BB%D1%83_%D1%84%D1%80%D0%B0%D0%BD%D1%86%D1%83%D0%B7_%D1%80%D0%B5%D0%B2%D0%BE%D0%BB%D1%8E%D1%86%D0%B8%D1%8F\nhttps://ka.wikipedia.org/wiki/%E1%83%A1%E1%83%90%E1%83%A4%E1%83%A0%E1%83%90%E1%83%9C%E1%83%92%E1%83%94%E1%83%97%E1%83%98%E1%83%A1_%E1%83%A0%E1%83%94%E1%83%95%E1%83%9D%E1%83%9A%E1%83%A3%E1%83%AA%E1%83%98%E1%83%90\nhttps://kk.wikipedia.org/wiki/%D0%A4%D1%80%D0%B0%D0%BD%D1%86%D1%83%D0%B7_%D1%82%D3%A9%D2%A3%D0%BA%D0%B5%D1%80%D1%96%D1%81%D1%96\nhttps://kw.wikipedia.org/wiki/Domhwelans_Frynkek\nhttps://sw.wikipedia.org/wiki/Mapinduzi_ya_Ufaransa\nhttps://ht.wikipedia.org/wiki/Revolisyon_franse\nhttps://gcr.wikipedia.org/wiki/R%C3%A9volousyon_frans%C3%A8z\nhttps://ku.wikipedia.org/wiki/%C5%9Eore%C5%9Fa_Fransay%C3%AA\nhttps://lo.wikipedia.org/wiki/%E0%BA%81%E0%BA%B2%E0%BA%99%E0%BA%9B%E0%BA%B0%E0%BA%95%E0%BA%B4%E0%BA%A7%E0%BA%B1%E0%BA%94%E0%BA%9D%E0%BA%B0%E0%BA%A5%E0%BA%B1%E0%BB%88%E0%BA%87\nhttps://la.wikipedia.org/wiki/Res_novae_Francicae\nhttps://lv.wikipedia.org/wiki/Fran%C4%8Du_revol%C5%ABcija\nhttps://lb.wikipedia.org/wiki/Frans%C3%A9isch_Revolutioun\nhttps://lez.wikipedia.org/wiki/%D0%A7%D3%80%D0%B5%D1%85%D0%B8_%D0%A4%D1%80%D0%B0%D0%BD%D1%86%D1%83%D0%B7_%D0%B8%D0%BD%D0%BA%D1%8A%D0%B8%D0%BB%D0%B0%D0%B1\nhttps://lt.wikipedia.org/wiki/Did%C5%BEioji_Pranc%C5%ABzijos_revoliucija\nhttps://lij.wikipedia.org/wiki/Rivolu%C3%A7ion_fran%C3%A7eize\nhttps://li.wikipedia.org/wiki/Franse_Rivvelutie\nhttps://lfn.wikipedia.org/wiki/Revolui_Franses\nhttps://lmo.wikipedia.org/wiki/Revoluzion_francesa\nhttps://hu.wikipedia.org/wiki/Francia_forradalom\nhttps://mk.wikipedia.org/wiki/%D0%A4%D1%80%D0%B0%D0%BD%D1%86%D1%83%D1%81%D0%BA%D0%B0_%D1%80%D0%B5%D0%B2%D0%BE%D0%BB%D1%83%D1%86%D0%B8%D1%98%D0%B0\nhttps://ml.wikipedia.org/wiki/%E0%B4%AB%E0%B5%8D%E0%B4%B0%E0%B4%9E%E0%B5%8D%E0%B4%9A%E0%B5%8D_%E0%B4%B5%E0%B4%BF%E0%B4%AA%E0%B5%8D%E0%B4%B2%E0%B4%B5%E0%B4%82\nhttps://mt.wikipedia.org/wiki/Rivoluzzjoni_Fran%C4%8Bi%C5%BCa\nhttps://mr.wikipedia.org/wiki/%E0%A4%AB%E0%A5%8D%E0%A4%B0%E0%A5%87%E0%A4%82%E0%A4%9A_%E0%A4%B0%E0%A4%BE%E0%A4%9C%E0%A5%8D%E0%A4%AF%E0%A4%95%E0%A5%8D%E0%A4%B0%E0%A4%BE%E0%A4%82%E0%A4%A4%E0%A5%80\nhttps://xmf.wikipedia.org/wiki/%E1%83%A1%E1%83%90%E1%83%A4%E1%83%A0%E1%83%90%E1%83%9C%E1%83%92%E1%83%94%E1%83%97%E1%83%98%E1%83%A8_%E1%83%A0%E1%83%94%E1%83%95%E1%83%9D%E1%83%9A%E1%83%A3%E1%83%AA%E1%83%98%E1%83%90\nhttps://arz.wikipedia.org/wiki/%D8%A7%D9%84%D8%AB%D9%88%D8%B1%D9%87_%D8%A7%D9%84%D9%81%D8%B1%D9%86%D8%B3%D9%8A%D9%87\nhttps://mzn.wikipedia.org/wiki/%D9%81%D8%B1%D8%A7%D9%86%D8%B3%D9%87_%DA%AF%D8%AA_%D8%A7%D9%86%D9%82%D9%84%D8%A7%D8%A8\nhttps://ms.wikipedia.org/wiki/Revolusi_Perancis\nhttps://mwl.wikipedia.org/wiki/Rebolu%C3%A7on_Francesa\nhttps://mn.wikipedia.org/wiki/%D0%A4%D1%80%D0%B0%D0%BD%D1%86%D1%8B%D0%BD_%D1%85%D1%83%D0%B2%D1%8C%D1%81%D0%B3%D0%B0%D0%BB\nhttps://my.wikipedia.org/wiki/%E1%80%95%E1%80%BC%E1%80%84%E1%80%BA%E1%80%9E%E1%80%85%E1%80%BA_%E1%80%90%E1%80%B1%E1%80%AC%E1%80%BA%E1%80%9C%E1%80%BE%E1%80%94%E1%80%BA%E1%80%9B%E1%80%B1%E1%80%B8\nhttps://nl.wikipedia.org/wiki/Franse_Revolutie\nhttps://ne.wikipedia.org/wiki/%E0%A4%AB%E0%A5%8D%E0%A4%B0%E0%A4%BE%E0%A4%A8%E0%A5%8D%E0%A4%B8%E0%A5%87%E0%A4%B2%E0%A5%80_%E0%A4%B0%E0%A4%BE%E0%A4%9C%E0%A5%8D%E0%A4%AF%E0%A4%95%E0%A5%8D%E0%A4%B0%E0%A4%BE%E0%A4%A8%E0%A5%8D%E0%A4%A4%E0%A4%BF\nhttps://ja.wikipedia.org/wiki/%E3%83%95%E3%83%A9%E3%83%B3%E3%82%B9%E9%9D%A9%E5%91%BD\nhttps://nap.wikipedia.org/wiki/Rivuluzzione_franzesa\nhttps://frr.wikipedia.org/wiki/Frans%C3%B6%C3%B6sk_Rewolutschuun\nhttps://no.wikipedia.org/wiki/Den_franske_revolusjon\nhttps://nn.wikipedia.org/wiki/Den_franske_revolusjonen\nhttps://oc.wikipedia.org/wiki/Revolucion_Francesa\nhttps://uz.wikipedia.org/wiki/Buyuk_fransuz_inqilobi\nhttps://pa.wikipedia.org/wiki/%E0%A8%AB%E0%A8%BC%E0%A8%B0%E0%A8%BE%E0%A8%82%E0%A8%B8%E0%A9%80%E0%A8%B8%E0%A9%80_%E0%A8%87%E0%A8%A8%E0%A8%95%E0%A8%B2%E0%A8%BE%E0%A8%AC\nhttps://pnb.wikipedia.org/wiki/%D8%A7%D9%86%D9%82%D9%84%D8%A7%D8%A8_%D9%81%D8%B1%D8%A7%D9%86%D8%B3\nhttps://jam.wikipedia.org/wiki/French_Revaluushan\nhttps://pcd.wikipedia.org/wiki/R%C3%A9volucion_francho%C3%A8se\nhttps://pms.wikipedia.org/wiki/Rivolussion_frans%C3%A8isa\nhttps://nds.wikipedia.org/wiki/Franz%C3%B6%C3%B6sche_Revolutschoon\nhttps://pl.wikipedia.org/wiki/Rewolucja_francuska\nhttps://pt.wikipedia.org/wiki/Revolu%C3%A7%C3%A3o_Francesa\nhttps://kaa.wikipedia.org/wiki/Fransuz_ko%27terilisi\nhttps://ro.wikipedia.org/wiki/Revolu%C8%9Bia_francez%C4%83\nhttps://rm.wikipedia.org/wiki/Revoluziun_franzosa\nhttps://rue.wikipedia.org/wiki/%D0%92%D0%B5%D0%BB%D0%B8%D0%BA%D0%B0_%D1%84%D1%80%D0%B0%D0%BD%D1%86%D1%83%D0%B7%D1%8C%D1%81%D0%BA%D0%B0_%D1%80%D0%B5%D0%B2%D0%BE%D0%BB%D1%83%D1%86%D1%96%D1%8F\nhttps://ru.wikipedia.org/wiki/%D0%92%D0%B5%D0%BB%D0%B8%D0%BA%D0%B0%D1%8F_%D1%84%D1%80%D0%B0%D0%BD%D1%86%D1%83%D0%B7%D1%81%D0%BA%D0%B0%D1%8F_%D1%80%D0%B5%D0%B2%D0%BE%D0%BB%D1%8E%D1%86%D0%B8%D1%8F\nhttps://sah.wikipedia.org/wiki/%D0%A4%D1%80%D0%B0%D0%BD%D1%86%D0%B8%D1%8F_%D0%A3%D0%BB%D1%83%D1%83_%D0%A0%D0%B5%D0%B2%D0%BE%D0%BB%D1%8E%D1%86%D0%B8%D1%8F%D1%82%D0%B0\nhttps://sc.wikipedia.org/wiki/Rivolutzione_frantzesa\nhttps://sco.wikipedia.org/wiki/French_Revolution\nhttps://sq.wikipedia.org/wiki/Revolucioni_francez\nhttps://scn.wikipedia.org/wiki/Rivuluzzioni_francisa\nhttps://si.wikipedia.org/wiki/%E0%B6%B4%E0%B7%8A%E2%80%8D%E0%B6%BB%E0%B6%82%E0%B7%81_%E0%B7%80%E0%B7%92%E0%B6%B4%E0%B7%8A%E0%B6%BD%E0%B7%80%E0%B6%BA\nhttps://simple.wikipedia.org/wiki/French_Revolution\nhttps://sd.wikipedia.org/wiki/%D9%81%D8%B1%D8%A7%D9%86%D8%B3%D9%8A%D8%B3%D9%8A_%D8%A7%D9%86%D9%82%D9%84%D8%A7%D8%A8\nhttps://sk.wikipedia.org/wiki/Ve%C4%BEk%C3%A1_franc%C3%BAzska_revol%C3%BAcia\nhttps://sl.wikipedia.org/wiki/Francoska_revolucija\nhttps://szl.wikipedia.org/wiki/Francusko_rewolucyja\nhttps://ckb.wikipedia.org/wiki/%D8%B4%DB%86%DA%95%D8%B4%DB%8C_%D9%81%DB%95%DA%95%DB%95%D9%86%D8%B3%DB%8C\nhttps://sr.wikipedia.org/wiki/%D0%A4%D1%80%D0%B0%D0%BD%D1%86%D1%83%D1%81%D0%BA%D0%B0_%D1%80%D0%B5%D0%B2%D0%BE%D0%BB%D1%83%D1%86%D0%B8%D1%98%D0%B0\nhttps://sh.wikipedia.org/wiki/Francuska_revolucija\nhttps://fi.wikipedia.org/wiki/Ranskan_suuri_vallankumous\nhttps://sv.wikipedia.org/wiki/Franska_revolutionen\nhttps://tl.wikipedia.org/wiki/Himagsikang_Pranses\nhttps://ta.wikipedia.org/wiki/%E0%AE%AA%E0%AE%BF%E0%AE%B0%E0%AF%86%E0%AE%9E%E0%AF%8D%E0%AE%9A%E0%AF%81%E0%AE%AA%E0%AF%8D_%E0%AE%AA%E0%AF%81%E0%AE%B0%E0%AE%9F%E0%AF%8D%E0%AE%9A%E0%AE%BF\nhttps://tt.wikipedia.org/wiki/%D0%91%D3%A9%D0%B5%D0%BA_%D1%84%D1%80%D0%B0%D0%BD%D1%86%D1%83%D0%B7_%D0%B8%D0%BD%D0%BA%D1%8B%D0%B9%D0%BB%D0%B0%D0%B1%D1%8B\nhttps://te.wikipedia.org/wiki/%E0%B0%AB%E0%B1%8D%E0%B0%B0%E0%B1%86%E0%B0%82%E0%B0%9A%E0%B1%8D_%E0%B0%B5%E0%B0%BF%E0%B0%AA%E0%B1%8D%E0%B0%B2%E0%B0%B5%E0%B0%82\nhttps://th.wikipedia.org/wiki/%E0%B8%81%E0%B8%B2%E0%B8%A3%E0%B8%9B%E0%B8%8F%E0%B8%B4%E0%B8%A7%E0%B8%B1%E0%B8%95%E0%B8%B4%E0%B8%9D%E0%B8%A3%E0%B8%B1%E0%B9%88%E0%B8%87%E0%B9%80%E0%B8%A8%E0%B8%AA\nhttps://tr.wikipedia.org/wiki/Frans%C4%B1z_Devrimi\nhttps://uk.wikipedia.org/wiki/%D0%92%D0%B5%D0%BB%D0%B8%D0%BA%D0%B0_%D1%84%D1%80%D0%B0%D0%BD%D1%86%D1%83%D0%B7%D1%8C%D0%BA%D0%B0_%D1%80%D0%B5%D0%B2%D0%BE%D0%BB%D1%8E%D1%86%D1%96%D1%8F\nhttps://ur.wikipedia.org/wiki/%D8%A7%D9%86%D9%82%D9%84%D8%A7%D8%A8_%D9%81%D8%B1%D8%A7%D9%86%D8%B3\nhttps://vep.wikipedia.org/wiki/Sur%27_francine_revol%C3%BCcii\nhttps://vi.wikipedia.org/wiki/C%C3%A1ch_m%E1%BA%A1ng_Ph%C3%A1p\nhttps://fiu-vro.wikipedia.org/wiki/Suur_Prantsus%C3%B5_riigip%C3%B6%C3%B6req\nhttps://vls.wikipedia.org/wiki/Fransche_Revoluusje\nhttps://war.wikipedia.org/wiki/Rebolusyon_Pranses\nhttps://wuu.wikipedia.org/wiki/%E6%B3%95%E5%9C%8B%E5%A4%A7%E9%9D%A9%E5%91%BD\nhttps://yi.wikipedia.org/wiki/%D7%A4%D7%A8%D7%90%D7%A0%D7%A6%D7%95%D7%99%D7%96%D7%99%D7%A9%D7%A2_%D7%A8%D7%A2%D7%95%D7%95%D7%90%D7%9C%D7%95%D7%A6%D7%99%D7%A2\nhttps://yo.wikipedia.org/wiki/%C3%8Cj%C3%ADd%C3%ACde_Fr%C3%A1ns%C3%AC\nhttps://zh-yue.wikipedia.org/wiki/%E6%B3%95%E5%9C%8B%E5%A4%A7%E9%9D%A9%E5%91%BD\nhttps://bat-smg.wikipedia.org/wiki/D%C4%97dliuoj%C4%97_Pranc%C5%ABzu_revuolioc%C4%97j%C4%97\nhttps://zh.wikipedia.org/wiki/%E6%B3%95%E5%9B%BD%E5%A4%A7%E9%9D%A9%E5%91%BD\nhttps://avk.wikipedia.org/wiki/Francafa_Artowara\nhttps://lld.wikipedia.org/wiki/Revoluziun_franzeja\nhttps://www.wikidata.org/wiki/Special:EntityPage/Q6534#sitelinks-wikipedia\n//en.wikipedia.org/wiki/Wikipedia:Text_of_Creative_Commons_Attribution-ShareAlike_3.0_Unported_License\n//creativecommons.org/licenses/by-sa/3.0/\n//foundation.wikimedia.org/wiki/Terms_of_Use\n//foundation.wikimedia.org/wiki/Privacy_policy\n//www.wikimediafoundation.org/\nhttps://foundation.wikimedia.org/wiki/Privacy_policy\nhttps://en.wikipedia.org/wiki/Wikipedia:About\nhttps://en.wikipedia.org/wiki/Wikipedia:General_disclaimer\n//en.wikipedia.org/wiki/Wikipedia:Contact_us\n//en.m.wikipedia.org/w/index.php?title=French_Revolution&mobileaction=toggle_view_mobile\nhttps://www.mediawiki.org/wiki/Special:MyLanguage/How_to_contribute\nhttps://stats.wikimedia.org/#/en.wikipedia.org\nhttps://foundation.wikimedia.org/wiki/Cookie_statement\nhttps://wikimediafoundation.org/\nhttps://www.mediawiki.org/\nTotal Links:  3560\n"
    }
   ],
   "source": [
    "url = 'https://en.wikipedia.org/wiki/French_Revolution'\n",
    "page = requests.get(url)\n",
    "soup = BeautifulSoup(page.content, 'html.parser')\n",
    "\n",
    "#for link in soup.find_all('a'):\n",
    "   # print(link.get('href'))\n",
    "'''\n",
    "link_count = 0\n",
    "for links in soup.find_all('a'):\n",
    "    href = links.attrs.get('href')\n",
    "    link_count += 1\n",
    "    print(href)\n",
    "print(\"Total Links: \", link_count)\n",
    "'''\n",
    "link_count = 0\n",
    "for links in soup.find_all('a'):\n",
    "    href = links.attrs.get('href')\n",
    "    href = str(href)\n",
    "    link_count += 1\n",
    "    if re.search(\"^/wiki/\", href):\n",
    "        href = \"https://en.wikipedia.org\" + href\n",
    "        print(href)\n",
    "    else:\n",
    "        print(href)\n",
    "print(\"Total Links: \", link_count)\n"
   ]
  },
  {
   "cell_type": "markdown",
   "metadata": {},
   "source": [
    "## Dates Of the French Revolution"
   ]
  },
  {
   "cell_type": "code",
   "execution_count": 4,
   "metadata": {
    "tags": []
   },
   "outputs": [
    {
     "output_type": "stream",
     "name": "stdout",
     "text": "Date of the French Revolution:  5 May 1789 – 9 November 1799 (1789-05-05 – 1799-11-09)(10 years, 6 months and 4 days)\n"
    }
   ],
   "source": [
    "date_box = soup.find_all('table', class_ = 'infobox vevent')\n",
    "#date_box.find('td', attrs = {'style': 'text-align: left;'})\n",
    "d = date_box[0].find('td', attrs = {'style': 'text-align: left;'})\n",
    "print(\"Date of the French Revolution: \", d.text)"
   ]
  },
  {
   "cell_type": "markdown",
   "metadata": {},
   "source": [
    "Largest Paragraph of Text\n",
    "- This assumes that all paragraphs of text are contained in '<p>' tags in the html code.\n",
    "- This algorithm also takes the largest paragraph that first appears.\n",
    "\n",
    "\n"
   ]
  },
  {
   "cell_type": "code",
   "execution_count": 5,
   "metadata": {
    "tags": []
   },
   "outputs": [
    {
     "output_type": "stream",
     "name": "stdout",
     "text": "Over the course of the 18th century, there emerged what the philosopher Jürgen Habermas called the idea of the \"public sphere\" in France and elsewhere in Europe.[21]:26 Habermas argued that the dominant cultural model in 17th-century France was a \"representational\" culture, which was based on a one-sided need to \"represent\" power with one side active and the other passive.[21]:26 A perfect example would be the Palace of Versailles, which was meant to overwhelm the senses of the visitor and convince one of the greatness of the French state and Louis XIV.[21]:26 Starting in the early 18th century the \"public sphere\" emerged which was \"critical\" in that both sides were active.[21]:26–7 Examples of the public sphere included newspapers, journals, masonic lodges, coffee houses and reading clubs where people either in person or virtually via the printed word debated and discussed issues.[21]:27 In France, the emergence of the public sphere outside of the control of the state led to the shift from Versailles to Paris as the cultural capital of France.[21]:27 Likewise, while in the 17th century the court had decided what was culturally good and what was not, in the 18th century the opinion of the court mattered less and consumers became the arbiters of cultural taste.[21]:28 In the 1750s, during the \"Querelle des Bouffons\" over the question of the quality of Italian vs. French music, the partisans of both sides appealed to the French public \"because it alone has the right to decide whether a work will be preserved for posterity or will be used by grocers as wrapping-paper.\"[21]:29 In 1782, Louis-Sébastien Mercier wrote: \"The word court no longer inspires awe amongst us as in the time of Louis XIV. Reigning opinions are no longer received from the court; it no longer decides on reputations of any sort ... The court's judgments are countermanded; one says openly that it understands nothing; it has no ideas on the subject and could have none.\"[21]:26–7 Inevitably, the belief that public opinion had the right to decide cultural questions instead of deferring to the court transformed itself into the demand that the public also have a say on political questions as well.[21]:29–30\n\nLargest Paragraph Word Count:  2205\n"
    }
   ],
   "source": [
    "paragraph = soup.find_all('p')\n",
    "\n",
    "max_count = 0\n",
    "for p in paragraph:\n",
    "    if(len(p.text) > max_count):\n",
    "        max_count = len(p.text)\n",
    "\n",
    "for p in paragraph:\n",
    "    if(len(p.text) == max_count):\n",
    "        print(p.text)\n",
    "        print(\"Largest Paragraph Word Count: \", max_count)"
   ]
  },
  {
   "cell_type": "code",
   "execution_count": null,
   "metadata": {},
   "outputs": [],
   "source": []
  }
 ]
}